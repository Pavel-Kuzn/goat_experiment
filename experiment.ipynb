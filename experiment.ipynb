{
 "cells": [
  {
   "cell_type": "code",
   "execution_count": 1,
   "metadata": {},
   "outputs": [],
   "source": [
    "import pandas as pd\n",
    "import seaborn as sns\n",
    "import numpy as np\n",
    "from matplotlib import pyplot as plt"
   ]
  },
  {
   "cell_type": "code",
   "execution_count": 8,
   "metadata": {},
   "outputs": [
    {
     "name": "stderr",
     "output_type": "stream",
     "text": [
      "C:\\Users\\1\\AppData\\Local\\Temp\\ipykernel_78676\\725296308.py:45: UserWarning: FixedFormatter should only be used together with FixedLocator\n",
      "  ax.set_xticklabels(['wins if player keeps chosen door', 'wins if player changes chosen door']);\n"
     ]
    },
    {
     "data": {
      "image/png": "[encoded data removed]",
      "text/plain": [
       "<Figure size 640x480 with 1 Axes>"
      ]
     },
     "metadata": {},
     "output_type": "display_data"
    }
   ],
   "source": [
    "# Зададим итоговые массивы\n",
    "wins_if_change = []\n",
    "wins_if_not_change = []\n",
    "\n",
    "\n",
    "for _ in range(10000):\n",
    "    # Генерируем двери\n",
    "    doors = {x: 0 for x in range(1, 4)}\n",
    "\n",
    "    # Рандомно определяем, где коза и помещаем эту информацию в словарь с дверьми\n",
    "    prize = np.random.choice(range(1, 4))\n",
    "    doors[prize] = 1\n",
    "\n",
    "    # Игрок выбирает дверь\n",
    "    player_choice_1 = np.random.choice(range(1, 4))\n",
    "\n",
    "    # Создадим массив с дверьми и удалим из него дверь за которой коза\n",
    "    # Также попробуем удалить дверь на случай, если игрок не угадал\n",
    "    # После чего возьмем случайный семпл из оставшихся, если там 2 двери. Если одна, она и будет выбрана\n",
    "    se = list(range(1, 4))\n",
    "    se.remove(prize)\n",
    "    try:\n",
    "        se.remove(player_choice_1)\n",
    "    except ValueError:\n",
    "        pass\n",
    "    door_to_open = np.random.choice(se)\n",
    "\n",
    "    del doors[door_to_open]\n",
    "\n",
    "    # Проверяем, угадал ли игрок и если угадал, то в каком случае - если поменял решение или не поменял\n",
    "    if prize == player_choice_1:\n",
    "        wins_if_not_change.append(1)\n",
    "\n",
    "    player_choice_2 = np.random.choice(list(doors.keys()))\n",
    "\n",
    "    if prize == player_choice_2:\n",
    "        wins_if_change.append(1)\n",
    "\n",
    "# Готовим данные к визуализации\n",
    "wins_if_change = sum(wins_if_change)\n",
    "wins_if_not_change = sum(wins_if_not_change)\n",
    "\n",
    "# Визуализируем\n",
    "ax = sns.barplot([wins_if_not_change, wins_if_change]);\n",
    "ax.set_xticklabels(['wins if player keeps chosen door', 'wins if player changes chosen door']);"
   ]
  },
  {
   "cell_type": "code",
   "execution_count": null,
   "metadata": {},
   "outputs": [],
   "source": []
  }
 ],
 "metadata": {
  "kernelspec": {
   "display_name": "base",
   "language": "python",
   "name": "python3"
  },
  "language_info": {
   "codemirror_mode": {
    "name": "ipython",
    "version": 3
   },
   "file_extension": ".py",
   "mimetype": "text/x-python",
   "name": "python",
   "nbconvert_exporter": "python",
   "pygments_lexer": "ipython3",
   "version": "3.10.9"
  }
 },
 "nbformat": 4,
 "nbformat_minor": 2
}
